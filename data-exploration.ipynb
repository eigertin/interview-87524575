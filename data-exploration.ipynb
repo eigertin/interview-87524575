{
 "cells": [
  {
   "metadata": {},
   "cell_type": "code",
   "outputs": [],
   "execution_count": null,
   "source": "import pandas as pd",
   "id": "bb11cd3022c3c150"
  },
  {
   "metadata": {},
   "cell_type": "markdown",
   "source": [
    "# Data\n",
    "\n",
    "The data that we will be exploring is cyclic peptide permeability data obtained from CycPeptMPDB. \n",
    "The first step is to load the data in ./data/external/CycPeptMPDB_Peptide_All.csv to see what this data looks like."
   ],
   "id": "a243fe19eec2a346"
  },
  {
   "metadata": {},
   "cell_type": "code",
   "outputs": [],
   "execution_count": null,
   "source": "",
   "id": "a705951cef36cea0"
  },
  {
   "metadata": {},
   "cell_type": "markdown",
   "source": [
    "# Permeability Data\n",
    "\n",
    "Permeability is measured using different techniques. Create a table that shows how much data there is for each technique sorted by # of records:\n",
    "\n",
    "| Technique | Records |\n",
    "|-----------| ------- |\n",
    "| PAMPA     | 7,000 |\n",
    "| Caco2     | 42 |\n",
    "\n",
    "The permeability values are stored in the columns: PAMPA, Caco2, MDCK, RRCK"
   ],
   "id": "d2d016f25b1de3a7"
  },
  {
   "metadata": {},
   "cell_type": "code",
   "outputs": [],
   "execution_count": null,
   "source": "",
   "id": "eb1d7ae4b1aa9615"
  },
  {
   "metadata": {},
   "cell_type": "markdown",
   "source": [
    "# PAMPA Permeability\n",
    "\n",
    "PAMPA permeability has the most data and will be the subset of the data that we will continue with. Create a plot to visualize the distribution of the data"
   ],
   "id": "8aa29320e75f6c1f"
  },
  {
   "metadata": {},
   "cell_type": "code",
   "outputs": [],
   "execution_count": null,
   "source": "",
   "id": "8f2a97252cd738cc"
  },
  {
   "metadata": {},
   "cell_type": "markdown",
   "source": [
    "# Data cleanup\n",
    "\n",
    "The plot above shows that there are some outliers, find out what these are and then clean up the data to remove the outliers "
   ],
   "id": "9389c2e7a6d8196c"
  },
  {
   "metadata": {},
   "cell_type": "code",
   "outputs": [],
   "execution_count": null,
   "source": "",
   "id": "41d9a10283f3082c"
  },
  {
   "metadata": {},
   "cell_type": "markdown",
   "source": [
    "# Permeability prediction\n",
    "\n",
    "## Feature Selection\n",
    "\n",
    "In addition to the permeability data, the CycPeptMPDB data contains a lot of precomputed molecule descriptors. The first step of a ML project is to find out which properties are important and which are not. One way of doing this is to use feature selection algorithms.\n",
    "\n",
    "To keep compute time low we are going to only use 'MolWt', 'NumHAcceptors', 'NumHDonors', 'MolLogP', 'TPSA', 'NumValenceElectrons' which are features that are known to be relevant\n",
    "\n",
    "Use the ScikitLearn SelectKBest feature selection to run feature selection "
   ],
   "id": "523e27d16f573c5d"
  },
  {
   "metadata": {},
   "cell_type": "code",
   "outputs": [],
   "execution_count": null,
   "source": "",
   "id": "af7ac0b7b994ceb2"
  },
  {
   "metadata": {},
   "cell_type": "markdown",
   "source": [
    "## Permeability prediction\n",
    "\n",
    "Use a ScikitLearn to train a simple model that predicts PAMPA permeability. And evaluate the performance of the model"
   ],
   "id": "8bbed5a675b42140"
  },
  {
   "metadata": {},
   "cell_type": "code",
   "outputs": [],
   "execution_count": null,
   "source": "",
   "id": "96d323036a0731d3"
  },
  {
   "metadata": {},
   "cell_type": "markdown",
   "source": [
    "# Permeability prediction using neural network\n",
    "\n",
    "Use pytorch to create a neural network to predict PAMPA permeability"
   ],
   "id": "23a0c9fd3fc6b677"
  },
  {
   "metadata": {},
   "cell_type": "code",
   "outputs": [],
   "execution_count": null,
   "source": "",
   "id": "798da69dd4f10c6c"
  }
 ],
 "metadata": {
  "kernelspec": {
   "display_name": "Python 3",
   "language": "python",
   "name": "python3"
  },
  "language_info": {
   "codemirror_mode": {
    "name": "ipython",
    "version": 2
   },
   "file_extension": ".py",
   "mimetype": "text/x-python",
   "name": "python",
   "nbconvert_exporter": "python",
   "pygments_lexer": "ipython2",
   "version": "2.7.6"
  }
 },
 "nbformat": 4,
 "nbformat_minor": 5
}
